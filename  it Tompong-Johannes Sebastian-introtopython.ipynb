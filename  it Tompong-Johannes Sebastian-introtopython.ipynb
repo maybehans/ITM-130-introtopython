{
 "cells": [
  {
   "cell_type": "markdown",
   "metadata": {},
   "source": [
    "172266 Tompong 4 BS Management"
   ]
  },
  {
   "cell_type": "code",
   "execution_count": 8,
   "metadata": {},
   "outputs": [
    {
     "name": "stdout",
     "output_type": "stream",
     "text": [
      "Enter first number: 3\n",
      "Enter second number: 3\n",
      "Enter third number: 3\n",
      "The average is = 3.0\n"
     ]
    }
   ],
   "source": [
    "# average of 3 integers\n",
    "def three_number_average(first, second, third):\n",
    "    average = (first+second+third)/3\n",
    "    return average\n",
    "\n",
    "# take inputs\n",
    "first = float(input('Enter first number: '))\n",
    "second = float(input('Enter second number: '))\n",
    "third = float(input('Enter third number: '))\n",
    "\n",
    "# function\n",
    "average = three_number_average(first, second, third)\n",
    "\n",
    "# display result\n",
    "print('The average is =', average)\n",
    "\n",
    "    "
   ]
  }
 ],
 "metadata": {
  "kernelspec": {
   "display_name": "Python 3",
   "language": "python",
   "name": "python3"
  },
  "language_info": {
   "codemirror_mode": {
    "name": "ipython",
    "version": 3
   },
   "file_extension": ".py",
   "mimetype": "text/x-python",
   "name": "python",
   "nbconvert_exporter": "python",
   "pygments_lexer": "ipython3",
   "version": "3.8.5"
  }
 },
 "nbformat": 4,
 "nbformat_minor": 4
}
